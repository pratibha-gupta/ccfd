import numpy as np
import pandas as pd
import seaborn as sns
import sklearn
import matplotlib
import scipy
import os
import matplotlib.pyplot as plt
print('Python: {}'.format(sys.version))
print('Numpy: {}'.format(np.__version__))
print('Pandas: {}'.format(pd.__version__))
print('seaborn: {}'.format(sns.__version__))
print('Sklearn: {}'.format(sklearn.__version__))
print('Matplotlib: {}'.format(matplotlib.__version__))
print('Scipy: {}'.format(scipy.__version__))
d=pd.read_csv(r"C:\Users\PRATIBHA GUPTA\AppData\Roaming\jupyter\creditcard.csv")
print(d.head)
print(d.columns)
print(d.shape)
print(d.describe())
d.hist(figsize=(20,20))
plt.show()
Fraud=d[d['Class']==1]
Valid=d[d['Class']==0]
outlier_fraction=len(Fraud) / float(len(Valid))
print(outlier_fraction)
print('Fraud Cases: {}'.format(len(Fraud)))
print('Valid Cses: {}'.format(len(Valid)))
cormat=d.corr()
fig=plt.figure(figsize=(12,9))
sns.heatmap(cormat, vmax=.8, square=True)
plt.show()
columns = d.columns.tolist()
columns = [c for c in columns if c not in ['Class']]
X=d[columns]
Y=d['Class']
print(X.shape)
print(Y.shape)
from sklearn.metrics import classification_report , accuracy_score
from sklearn.ensemble import IsolationForest
from sklearn.neighbors import LocalOutlierFactor

state = 1
classifier = {
    "Isolation Forest": IsolationForest(max_samples=(len(X)),
                                        contamination = outlier_fraction,
                                        random_state = state,),
    "Local Outlier Factor": LocalOutlierFactor(
    n_neighbors=20,
    contamination = outlier_fraction,novelty=True)
}
n_outliers = len(Fraud)
for i, (clf_name, clf) in enumerate(classifier.items()):
    if clf == "Local Outliers Factor":
        y_pred = clf.fit_predict(X)
        scores_pred = clf.negative_outliers_factor_
    else:
        clf.fit(X)
        scores_pred = clf.decision_function(X)
        y_pred = clf.predict(X)
    y_pred[y_pred==1]=0
    y_pred[y_pred==-1]=1
    n_errors= (y_pred!=Y).sum()
    print('{}:{}'.format(clf_name,n_errors))
    print(accuracy_score(Y,y_pred))
    print(classification_report(Y,y_pred))
